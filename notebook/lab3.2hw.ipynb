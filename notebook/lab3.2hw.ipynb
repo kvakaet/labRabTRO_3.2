{
 "cells": [
  {
   "cell_type": "markdown",
   "metadata": {},
   "source": [
    "# Лабораторная работа 3.2. Домашнее задание"
   ]
  },
  {
   "cell_type": "markdown",
   "metadata": {},
   "source": [
    "### Задание №1"
   ]
  },
  {
   "cell_type": "markdown",
   "metadata": {},
   "source": [
    "Создайте два массива: в первом должны быть четные числа от 2 до 12 включительно, а в другом числа 7, 11, 15, 18, 23, 29."
   ]
  },
  {
   "cell_type": "markdown",
   "metadata": {},
   "source": [
    "$1.$ Сложите массивы и возведите элементы получившегося массива в квадрат:"
   ]
  },
  {
   "cell_type": "code",
   "execution_count": 1,
   "metadata": {
    "jupyter": {
     "outputs_hidden": true
    }
   },
   "outputs": [
    {
     "name": "stdout",
     "output_type": "stream",
     "text": [
      "[  81  225  441  676 1089 1681]\n"
     ]
    }
   ],
   "source": [
    "import numpy as np\n",
    "\n",
    "\n",
    "arr1 = np.array([2, 4, 6, 8, 10, 12])\n",
    "arr2 = np.array([7, 11, 15, 18, 23, 29])\n",
    "\n",
    "arr3 = np.array([arr1, arr2]).sum(axis=0) ** 2\n",
    "print(arr3)"
   ]
  },
  {
   "cell_type": "markdown",
   "metadata": {},
   "source": [
    "$2.$ Выведите все элементы из первого массива, индексы которых соответствуют индексам тех элементов второго массива, которые больше 12 и дают остаток 3 при делении на 5."
   ]
  },
  {
   "cell_type": "code",
   "execution_count": 2,
   "metadata": {
    "jupyter": {
     "outputs_hidden": true
    }
   },
   "outputs": [
    {
     "name": "stdout",
     "output_type": "stream",
     "text": [
      "[ 8 10]\n"
     ]
    }
   ],
   "source": [
    "arr4 = arr1[np.array([arr2 > 12, arr2 % 5 == 3]).prod(axis=0) == True]\n",
    "print(arr4)"
   ]
  },
  {
   "cell_type": "markdown",
   "metadata": {},
   "source": [
    "*3.* Проверьте условие \"Элементы первого массива делятся на 4, элементы второго массива меньше 14\". (Подсказка: в результате должен получиться массив с True и False)"
   ]
  },
  {
   "cell_type": "code",
   "execution_count": 3,
   "metadata": {},
   "outputs": [
    {
     "name": "stdout",
     "output_type": "stream",
     "text": [
      "[False  True False False False False]\n"
     ]
    }
   ],
   "source": [
    "arr5 = np.logical_and(arr1 % 4 == 0, arr2 < 14)\n",
    "print(arr5)"
   ]
  },
  {
   "cell_type": "markdown",
   "metadata": {},
   "source": [
    "### Задание №2"
   ]
  },
  {
   "cell_type": "markdown",
   "metadata": {},
   "source": [
    "* Найдите интересный для вас датасет. Например, можно выбрать датасет тут. http://data.un.org/Explorer.aspx (выбираете датасет, жмете на view data, потом download, выбирайте csv формат)\n",
    "* Рассчитайте подходящие описательные статистики для признаков объектов в выбранном датасете\n",
    "* Проанализируйте и прокомментируйте содержательно получившиеся результаты\n",
    "* Все комментарии оформляйте строго в ячейках формата markdown\n",
    "    "
   ]
  },
  {
   "cell_type": "code",
   "execution_count": 4,
   "metadata": {
    "jupyter": {
     "outputs_hidden": true
    }
   },
   "outputs": [
    {
     "name": "stdout",
     "output_type": "stream",
     "text": [
      "2014\n"
     ]
    },
    {
     "data": {
      "image/png": "[encoded data removed]",
      "text/plain": [
       "<Figure size 640x480 with 1 Axes>"
      ]
     },
     "metadata": {},
     "output_type": "display_data"
    }
   ],
   "source": [
    "import numpy as np\n",
    "import matplotlib.pyplot as plt\n",
    "import csv\n",
    "\n",
    "\n",
    "with open('city_of_chicago_crimes_2001_to_present.csv', 'r') as file:\n",
    "    reader = csv.DictReader(file)\n",
    "    ord_X = []\n",
    "    ord_Y = []\n",
    "    ord_year = []\n",
    "    for i in reader:\n",
    "        if i['X Coordinate'] and i['Y Coordinate']:\n",
    "            ord_X.append(int(i['X Coordinate']))\n",
    "            ord_Y.append(int(i['Y Coordinate']))\n",
    "            ord_year.append(int(i['Year']))\n",
    "\n",
    "year = int(input())\n",
    "year_ord_X = []\n",
    "year_ord_Y = []\n",
    "for i, v in enumerate(ord_year):\n",
    "    if v == year:\n",
    "        year_ord_X.append(ord_X[i])\n",
    "        year_ord_Y.append(ord_Y[i])\n",
    "\n",
    "plt.axis([min(ord_X), max(ord_X), min(ord_Y), max(ord_Y)])\n",
    "plt.plot(year_ord_X, year_ord_Y, 'ro')\n",
    "plt.show()\n",
    "\n",
    "\n"
   ]
  }
 ],
 "metadata": {
  "kernelspec": {
   "display_name": "Python 3 (ipykernel)",
   "language": "python",
   "name": "python3"
  },
  "language_info": {
   "codemirror_mode": {
    "name": "ipython",
    "version": 3
   },
   "file_extension": ".py",
   "mimetype": "text/x-python",
   "name": "python",
   "nbconvert_exporter": "python",
   "pygments_lexer": "ipython3",
   "version": "3.9.13"
  }
 },
 "nbformat": 4,
 "nbformat_minor": 4
}
