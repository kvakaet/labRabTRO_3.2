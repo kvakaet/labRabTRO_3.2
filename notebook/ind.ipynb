{
 "cells": [
  {
   "cell_type": "markdown",
   "id": "daa14e70",
   "metadata": {},
   "source": [
    "# 17 \n",
    "Дана целочисленная прямоугольная матрица. Определить:\n",
    "\n",
    "количество строк, содержащих хотя бы один нулевой элемент;\n",
    "\n",
    "номер столбца, в котором находится самая длинная серия одинаковых элементов."
   ]
  },
  {
   "cell_type": "code",
   "execution_count": 114,
   "id": "a30b3ba2",
   "metadata": {},
   "outputs": [
    {
     "name": "stdout",
     "output_type": "stream",
     "text": [
      "[[ 1  1  0  4]\n",
      " [ 5  1  0  8]\n",
      " [ 9  1  1 12]] 2\n"
     ]
    }
   ],
   "source": [
    "import numpy as np\n",
    "\n",
    "\n",
    "m = np.matrix('1 1 0 4; 5 1 0 8; 9 1 1 12')\n",
    "print(m, np.sum(np.any(m == 0, axis = 1)))"
   ]
  },
  {
   "cell_type": "code",
   "execution_count": 115,
   "id": "66db577e",
   "metadata": {},
   "outputs": [
    {
     "name": "stdout",
     "output_type": "stream",
     "text": [
      "1\n"
     ]
    }
   ],
   "source": [
    "print(np.argmax(np.sum((np.diff(m, axis=0) == 0).astype(np.int32), axis=0)))"
   ]
  }
 ],
 "metadata": {
  "kernelspec": {
   "display_name": "Python 3 (ipykernel)",
   "language": "python",
   "name": "python3"
  },
  "language_info": {
   "codemirror_mode": {
    "name": "ipython",
    "version": 3
   },
   "file_extension": ".py",
   "mimetype": "text/x-python",
   "name": "python",
   "nbconvert_exporter": "python",
   "pygments_lexer": "ipython3",
   "version": "3.9.13"
  }
 },
 "nbformat": 4,
 "nbformat_minor": 5
}
